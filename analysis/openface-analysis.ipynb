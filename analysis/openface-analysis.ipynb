{
 "cells": [
  {
   "cell_type": "code",
   "execution_count": 1,
   "id": "f61ede10-d5f5-40a8-b9cd-2e76b19447fb",
   "metadata": {},
   "outputs": [],
   "source": [
    "import numpy as np\n",
    "import json\n",
    "import pandas as pd"
   ]
  },
  {
   "cell_type": "code",
   "execution_count": 2,
   "id": "e82548ac-2c0f-44d8-b81f-430a15d21021",
   "metadata": {},
   "outputs": [],
   "source": [
    "dataDir = \"./data/openface\""
   ]
  },
  {
   "cell_type": "code",
   "execution_count": 3,
   "id": "0ca6074c-a880-4fc8-b8b0-f34092b72be1",
   "metadata": {},
   "outputs": [],
   "source": [
    "def readOpenFaceFile(filename) -> [dict]:\n",
    "  lines = []\n",
    "  with open(f\"{dataDir}/{filename}\", \"r\") as f:\n",
    "      for l in f:\n",
    "        detectionStr = l.split(\",\", maxsplit=1)[1].rstrip().strip(\"\\\"\")\n",
    "        detectionStr = detectionStr.replace(\"\\'\", \"\\\"\")\n",
    "        lines.append(json.loads(detectionStr))\n",
    "  return lines"
   ]
  },
  {
   "cell_type": "code",
   "execution_count": 4,
   "id": "69bb8bcd-d694-4097-b6db-884853a1c417",
   "metadata": {},
   "outputs": [],
   "source": [
    "def getNumOfNoDetections(frames: [dict]) -> int:\n",
    "  return len([f for f in frames if f[\"intensity\"] == \"-1\" or f[\"intensity\"][\"AU01\"] == \"-\"])"
   ]
  },
  {
   "cell_type": "code",
   "execution_count": 5,
   "id": "4f5cef54",
   "metadata": {},
   "outputs": [],
   "source": [
    "def getNumOfZeroIntensity(frames: [dict]) -> int:\n",
    "  return len([f for f in frames if f[\"intensity\"] != \"-1\" and f[\"intensity\"][\"AU06\"] == 0 and f[\"intensity\"][\"AU12\"] == 0])"
   ]
  },
  {
   "cell_type": "code",
   "execution_count": 6,
   "id": "b87e13ac",
   "metadata": {},
   "outputs": [],
   "source": [
    "videos = [\"bright\", \"dark\", \"outside\", \"moving_background\", \"hololens_left\", \"hololens_right\"]\n",
    "bitrates = [\"750\", \"1500\"]\n",
    "methods = [\"none\", \"face\", \"fes\"]"
   ]
  },
  {
   "cell_type": "code",
   "execution_count": 7,
   "id": "2b241fcb",
   "metadata": {},
   "outputs": [],
   "source": [
    "def print_stats(data, name):\n",
    "    print(\"Avg {} per method\".format(name))\n",
    "    a = data.reshape(len(videos)*len(bitrates), len(methods))\n",
    "    avgs = np.mean(a, axis=0)\n",
    "    print(pd.DataFrame(avgs, index=methods))\n",
    "\n",
    "    print(\"\\nAvg {} per video\".format(name))\n",
    "    a = data.reshape(len(videos), len(bitrates)*len(methods))\n",
    "    avgs = np.mean(a, axis=1)\n",
    "    print(pd.DataFrame(avgs, index=videos))\n",
    "\n",
    "    print(\"\\nAvg {} per bitrate\".format(name))\n",
    "    a = data.swapaxes(1, 2).reshape(len(videos)*len(methods), len(bitrates))\n",
    "    avgs = np.mean(a, axis=0)\n",
    "    print(pd.DataFrame(avgs, index=bitrates))\n",
    "\n",
    "    print(\"\\nAvg {} method and bitrate\".format(name))\n",
    "    avgs = np.mean(data, axis=0)\n",
    "    print(pd.DataFrame(avgs, index=bitrates, columns=methods))\n",
    "\n",
    "    print(\"\\nAvg {} per video and bitrate\".format(name))\n",
    "    avgs = np.mean(data, axis=2)\n",
    "    print(pd.DataFrame(avgs, index=videos, columns=bitrates))\n",
    "\n",
    "    print(\"\\nAvg {} per video and method\".format(name))\n",
    "    avgs = np.mean(data, axis=1)\n",
    "    print(pd.DataFrame(avgs, index=videos, columns=methods))\n"
   ]
  },
  {
   "cell_type": "code",
   "execution_count": 8,
   "id": "8011e61b",
   "metadata": {},
   "outputs": [],
   "source": [
    "valuesDetect = []\n",
    "\n",
    "for v in videos:\n",
    "    for b in bitrates:\n",
    "        for m in methods:\n",
    "            frames = readOpenFaceFile(f\"{v}_{b}_{m}.csv\")\n",
    "            noDetecs = getNumOfNoDetections(frames)\n",
    "            zeroItensity = getNumOfZeroIntensity(frames)\n",
    "            ratio = noDetecs/len(frames)\n",
    "            valuesDetect.append(ratio)\n",
    "            # print(f\"{v}_{b}_{m}: {noDetecs}/{len(frames)} = {ratio:.3f}\")\n",
    "\n",
    "valuesDetect = np.array(valuesDetect).reshape(len(videos),len(bitrates),len(methods))"
   ]
  },
  {
   "cell_type": "code",
   "execution_count": 9,
   "id": "40b44d61",
   "metadata": {},
   "outputs": [
    {
     "name": "stdout",
     "output_type": "stream",
     "text": [
      "Avg no detections per method\n",
      "             0\n",
      "none  0.230311\n",
      "face  0.224007\n",
      "fes   0.223008\n",
      "\n",
      "Avg no detections per video\n",
      "                          0\n",
      "bright             0.224322\n",
      "dark               0.267775\n",
      "outside            0.202307\n",
      "moving_background  0.200369\n",
      "hololens_left      0.293542\n",
      "hololens_right     0.166337\n",
      "\n",
      "Avg no detections per bitrate\n",
      "             0\n",
      "750   0.209835\n",
      "1500  0.241716\n",
      "\n",
      "Avg no detections method and bitrate\n",
      "          none      face       fes\n",
      "750   0.215897  0.201522  0.212087\n",
      "1500  0.244725  0.246493  0.233929\n",
      "\n",
      "Avg no detections per video and bitrate\n",
      "                        750      1500\n",
      "bright             0.206069  0.242576\n",
      "dark               0.246365  0.289186\n",
      "outside            0.188786  0.215828\n",
      "moving_background  0.179382  0.221356\n",
      "hololens_left      0.288563  0.298520\n",
      "hololens_right     0.149847  0.182827\n",
      "\n",
      "Avg no detections per video and method\n",
      "                       none      face       fes\n",
      "bright             0.246368  0.209236  0.217363\n",
      "dark               0.276911  0.255086  0.271329\n",
      "outside            0.189194  0.211289  0.206438\n",
      "moving_background  0.190315  0.217406  0.193387\n",
      "hololens_left      0.316330  0.291724  0.272571\n",
      "hololens_right     0.162747  0.159302  0.176962\n"
     ]
    }
   ],
   "source": [
    "print_stats(valuesDetect, \"no detections\")"
   ]
  },
  {
   "cell_type": "code",
   "execution_count": null,
   "id": "c4d649f3",
   "metadata": {},
   "outputs": [],
   "source": []
  }
 ],
 "metadata": {
  "kernelspec": {
   "display_name": "Python 3 (ipykernel)",
   "language": "python",
   "name": "python3"
  },
  "language_info": {
   "codemirror_mode": {
    "name": "ipython",
    "version": 3
   },
   "file_extension": ".py",
   "mimetype": "text/x-python",
   "name": "python",
   "nbconvert_exporter": "python",
   "pygments_lexer": "ipython3",
   "version": "3.10.7"
  }
 },
 "nbformat": 4,
 "nbformat_minor": 5
}
