{
 "cells": [
  {
   "cell_type": "code",
   "execution_count": 96,
   "id": "f61ede10-d5f5-40a8-b9cd-2e76b19447fb",
   "metadata": {},
   "outputs": [],
   "source": [
    "import numpy as np\n",
    "import json\n",
    "import pandas as pd"
   ]
  },
  {
   "cell_type": "code",
   "execution_count": 8,
   "id": "e82548ac-2c0f-44d8-b81f-430a15d21021",
   "metadata": {},
   "outputs": [],
   "source": [
    "dataDir = \"./data/openface\""
   ]
  },
  {
   "cell_type": "code",
   "execution_count": 52,
   "id": "0ca6074c-a880-4fc8-b8b0-f34092b72be1",
   "metadata": {},
   "outputs": [],
   "source": [
    "def readOpenFaceFile(filename) -> [dict]:\n",
    "  lines = []\n",
    "  with open(f\"{dataDir}/{filename}\", \"r\") as f:\n",
    "      for l in f:\n",
    "        detectionStr = l.split(\",\", maxsplit=1)[1].rstrip().strip(\"\\\"\")\n",
    "        detectionStr = detectionStr.replace(\"\\'\", \"\\\"\")\n",
    "        lines.append(json.loads(detectionStr))\n",
    "  return lines"
   ]
  },
  {
   "cell_type": "code",
   "execution_count": 108,
   "id": "69bb8bcd-d694-4097-b6db-884853a1c417",
   "metadata": {},
   "outputs": [],
   "source": [
    "def getNumOfNoDetections(frames: [dict]) -> int:\n",
    "  return len([f for f in frames if f[\"intensity\"] == \"-1\" or f[\"intensity\"][\"AU01\"] == \"-\"])"
   ]
  },
  {
   "cell_type": "code",
   "execution_count": 63,
   "id": "4f5cef54",
   "metadata": {},
   "outputs": [],
   "source": [
    "def getNumOfZeroIntensity(frames: [dict]) -> int:\n",
    "  return len([f for f in frames if f[\"intensity\"] != \"-1\" and f[\"intensity\"][\"AU06\"] == 0 and f[\"intensity\"][\"AU12\"] == 0])"
   ]
  },
  {
   "cell_type": "code",
   "execution_count": 102,
   "id": "b87e13ac",
   "metadata": {},
   "outputs": [],
   "source": [
    "videos = [\"bright\", \"dark\", \"moving_background\", \"outside\"]\n",
    "bitrates = [\"750\", \"1500\"]\n",
    "methods = [\"none\", \"face\", \"fes\"]"
   ]
  },
  {
   "cell_type": "code",
   "execution_count": 109,
   "id": "8011e61b",
   "metadata": {},
   "outputs": [
    {
     "name": "stdout",
     "output_type": "stream",
     "text": [
      "Avg no detections per method\n",
      "             0\n",
      "none  0.225697\n",
      "face  0.223254\n",
      "fes   0.222129\n",
      "Avg no detections per method and bitrate\n",
      "          none      face       fes\n",
      "750   0.212696  0.197885  0.204870\n",
      "1500  0.238698  0.248624  0.239388\n"
     ]
    }
   ],
   "source": [
    "valuesDetect = []\n",
    "\n",
    "for v in videos:\n",
    "    for b in bitrates:\n",
    "        for m in methods:\n",
    "            frames = readOpenFaceFile(f\"{v}_{b}_{m}.csv\")\n",
    "            noDetecs = getNumOfNoDetections(frames)\n",
    "            zeroItensity = getNumOfZeroIntensity(frames)\n",
    "            ratio = noDetecs/len(frames)\n",
    "            valuesDetect.append(ratio)\n",
    "            # print(f\"{v}_{b}_{m}: {noDetecs}/{len(frames)} = {ratio:.3f}\")\n",
    "\n",
    "valuesDetect = np.array(valuesDetect).reshape(len(videos),len(bitrates),len(methods))\n",
    "\n",
    "print(\"Avg no detections per method\")\n",
    "a = valuesDetect.reshape(len(videos)*len(bitrates),len(methods))\n",
    "avgs = np.mean(a, axis=0)\n",
    "print(pd.DataFrame(avgs, index=methods))\n",
    "\n",
    "print(\"Avg no detections per method and bitrate\")\n",
    "avgs = np.mean(valuesDetect, axis=0)\n",
    "print(pd.DataFrame(avgs, index=bitrates, columns=methods))"
   ]
  },
  {
   "cell_type": "code",
   "execution_count": null,
   "id": "40b44d61",
   "metadata": {},
   "outputs": [],
   "source": []
  }
 ],
 "metadata": {
  "kernelspec": {
   "display_name": "Python 3 (ipykernel)",
   "language": "python",
   "name": "python3"
  },
  "language_info": {
   "codemirror_mode": {
    "name": "ipython",
    "version": 3
   },
   "file_extension": ".py",
   "mimetype": "text/x-python",
   "name": "python",
   "nbconvert_exporter": "python",
   "pygments_lexer": "ipython3",
   "version": "3.10.7"
  }
 },
 "nbformat": 4,
 "nbformat_minor": 5
}
